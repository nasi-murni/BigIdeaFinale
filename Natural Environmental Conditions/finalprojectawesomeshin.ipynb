{
 "cells": [
  {
   "cell_type": "markdown",
   "metadata": {},
   "source": [
    "# Natural Environment Conditions\n",
    "### By Shin Young Kang "
   ]
  },
  {
   "cell_type": "markdown",
   "metadata": {},
   "source": [
    "Natural Environment Conditions is the name of a land and population census from 2010 containing data related to land use in individual neighborhoods. Data includes proportions of land that contain park/greenspace. And how prone the land is to different natural disasters. By using this data, we can come to a conclusion which neighborhoods are more desirable and livable in our metrics. \n",
    "\n",
    "The data recorded in the census pertains to how the land in each neighborhood has been developed but also what percentage of the land is suseptable to flooding or landslides, which should make the neighborhood less desirable. While the monetary value of land comes from the economic potential/value the land represents, ultimately it is the natural environment the land is in that influence the subjective value of the land.\n"
   ]
  },
  {
   "cell_type": "code",
   "execution_count": 11,
   "metadata": {},
   "outputs": [
    {
     "data": {
      "text/html": [
       "<div>\n",
       "<style scoped>\n",
       "    .dataframe tbody tr th:only-of-type {\n",
       "        vertical-align: middle;\n",
       "    }\n",
       "\n",
       "    .dataframe tbody tr th {\n",
       "        vertical-align: top;\n",
       "    }\n",
       "\n",
       "    .dataframe thead th {\n",
       "        text-align: right;\n",
       "    }\n",
       "</style>\n",
       "<table border=\"1\" class=\"dataframe\">\n",
       "  <thead>\n",
       "    <tr style=\"text-align: right;\">\n",
       "      <th></th>\n",
       "      <th>Neighborhood</th>\n",
       "      <th>Sector #</th>\n",
       "      <th>Population (2010)</th>\n",
       "      <th>Land Area (acres)</th>\n",
       "      <th>Landslide Prone (% land area)</th>\n",
       "      <th>Undermined (% land area)</th>\n",
       "      <th>Flood Plain (% land area)</th>\n",
       "      <th># Street Trees</th>\n",
       "      <th>Park Space (acres)</th>\n",
       "      <th>Park Space (% of land area)</th>\n",
       "      <th>Park Space (acres/1000 pers.)</th>\n",
       "      <th>Greenway (% of land area)</th>\n",
       "      <th>Woodland (% of land area)</th>\n",
       "      <th>Cemetery (% of land area)</th>\n",
       "    </tr>\n",
       "    <tr>\n",
       "      <th>_id</th>\n",
       "      <th></th>\n",
       "      <th></th>\n",
       "      <th></th>\n",
       "      <th></th>\n",
       "      <th></th>\n",
       "      <th></th>\n",
       "      <th></th>\n",
       "      <th></th>\n",
       "      <th></th>\n",
       "      <th></th>\n",
       "      <th></th>\n",
       "      <th></th>\n",
       "      <th></th>\n",
       "      <th></th>\n",
       "    </tr>\n",
       "  </thead>\n",
       "  <tbody>\n",
       "    <tr>\n",
       "      <th>1</th>\n",
       "      <td>Allegheny Center</td>\n",
       "      <td>3</td>\n",
       "      <td>933</td>\n",
       "      <td>134.4</td>\n",
       "      <td>0.0%</td>\n",
       "      <td>0.0%</td>\n",
       "      <td>0.2%</td>\n",
       "      <td>22</td>\n",
       "      <td>55.3</td>\n",
       "      <td>41.1%</td>\n",
       "      <td>59.2</td>\n",
       "      <td>0.0%</td>\n",
       "      <td>0.0%</td>\n",
       "      <td>0.0%</td>\n",
       "    </tr>\n",
       "    <tr>\n",
       "      <th>2</th>\n",
       "      <td>Allegheny West</td>\n",
       "      <td>3</td>\n",
       "      <td>462</td>\n",
       "      <td>90.2</td>\n",
       "      <td>9.3%</td>\n",
       "      <td>0.0%</td>\n",
       "      <td>2.3%</td>\n",
       "      <td>229</td>\n",
       "      <td>7.2</td>\n",
       "      <td>8.0%</td>\n",
       "      <td>15.5</td>\n",
       "      <td>0.0%</td>\n",
       "      <td>4.2%</td>\n",
       "      <td>0.0%</td>\n",
       "    </tr>\n",
       "    <tr>\n",
       "      <th>3</th>\n",
       "      <td>Allentown</td>\n",
       "      <td>6</td>\n",
       "      <td>2,500</td>\n",
       "      <td>188.8</td>\n",
       "      <td>27.1%</td>\n",
       "      <td>90.4%</td>\n",
       "      <td>0.0%</td>\n",
       "      <td>87</td>\n",
       "      <td>39.4</td>\n",
       "      <td>20.9%</td>\n",
       "      <td>15.8</td>\n",
       "      <td>0.0%</td>\n",
       "      <td>12.3%</td>\n",
       "      <td>0.0%</td>\n",
       "    </tr>\n",
       "    <tr>\n",
       "      <th>4</th>\n",
       "      <td>Arlington</td>\n",
       "      <td>7</td>\n",
       "      <td>1,869</td>\n",
       "      <td>300.8</td>\n",
       "      <td>41.4%</td>\n",
       "      <td>57.3%</td>\n",
       "      <td>1.5%</td>\n",
       "      <td>79</td>\n",
       "      <td>6.7</td>\n",
       "      <td>2.2%</td>\n",
       "      <td>3.6</td>\n",
       "      <td>0.0%</td>\n",
       "      <td>29.4%</td>\n",
       "      <td>7.3%</td>\n",
       "    </tr>\n",
       "    <tr>\n",
       "      <th>5</th>\n",
       "      <td>Arlington Heights</td>\n",
       "      <td>7</td>\n",
       "      <td>244</td>\n",
       "      <td>84.5</td>\n",
       "      <td>39.9%</td>\n",
       "      <td>61.2%</td>\n",
       "      <td>0.0%</td>\n",
       "      <td>3</td>\n",
       "      <td>0.0</td>\n",
       "      <td>0.0%</td>\n",
       "      <td>0.0</td>\n",
       "      <td>0.0%</td>\n",
       "      <td>41.8%</td>\n",
       "      <td>0.0%</td>\n",
       "    </tr>\n",
       "  </tbody>\n",
       "</table>\n",
       "</div>"
      ],
      "text/plain": [
       "          Neighborhood  Sector # Population (2010) Land Area (acres)  \\\n",
       "_id                                                                    \n",
       "1     Allegheny Center         3               933             134.4   \n",
       "2       Allegheny West         3               462              90.2   \n",
       "3            Allentown         6             2,500             188.8   \n",
       "4            Arlington         7             1,869             300.8   \n",
       "5    Arlington Heights         7               244              84.5   \n",
       "\n",
       "    Landslide Prone (% land area) Undermined (% land area)  \\\n",
       "_id                                                          \n",
       "1                            0.0%                     0.0%   \n",
       "2                            9.3%                     0.0%   \n",
       "3                           27.1%                    90.4%   \n",
       "4                           41.4%                    57.3%   \n",
       "5                           39.9%                    61.2%   \n",
       "\n",
       "    Flood Plain (% land area)  # Street Trees  Park Space (acres)  \\\n",
       "_id                                                                 \n",
       "1                        0.2%              22                55.3   \n",
       "2                        2.3%             229                 7.2   \n",
       "3                        0.0%              87                39.4   \n",
       "4                        1.5%              79                 6.7   \n",
       "5                        0.0%               3                 0.0   \n",
       "\n",
       "    Park Space (% of land area)  Park Space (acres/1000 pers.)  \\\n",
       "_id                                                              \n",
       "1                         41.1%                           59.2   \n",
       "2                          8.0%                           15.5   \n",
       "3                         20.9%                           15.8   \n",
       "4                          2.2%                            3.6   \n",
       "5                          0.0%                            0.0   \n",
       "\n",
       "    Greenway (% of land area) Woodland (% of land area)  \\\n",
       "_id                                                       \n",
       "1                        0.0%                      0.0%   \n",
       "2                        0.0%                      4.2%   \n",
       "3                        0.0%                     12.3%   \n",
       "4                        0.0%                     29.4%   \n",
       "5                        0.0%                     41.8%   \n",
       "\n",
       "    Cemetery (% of land area)  \n",
       "_id                            \n",
       "1                        0.0%  \n",
       "2                        0.0%  \n",
       "3                        0.0%  \n",
       "4                        7.3%  \n",
       "5                        0.0%  "
      ]
     },
     "execution_count": 11,
     "metadata": {},
     "output_type": "execute_result"
    }
   ],
   "source": [
    "import pandas as pd\n",
    "file = pd.read_csv(\"tough_times_.csv\", index_col=\"_id\")\n",
    "file.head(5)"
   ]
  },
  {
   "cell_type": "markdown",
   "metadata": {},
   "source": [
    "Not all the information in the dataset will be used for the project. Therefore we will be filtering out certain parts of it. "
   ]
  },
  {
   "cell_type": "code",
   "execution_count": 3,
   "metadata": {},
   "outputs": [
    {
     "data": {
      "text/html": [
       "<div>\n",
       "<style scoped>\n",
       "    .dataframe tbody tr th:only-of-type {\n",
       "        vertical-align: middle;\n",
       "    }\n",
       "\n",
       "    .dataframe tbody tr th {\n",
       "        vertical-align: top;\n",
       "    }\n",
       "\n",
       "    .dataframe thead th {\n",
       "        text-align: right;\n",
       "    }\n",
       "</style>\n",
       "<table border=\"1\" class=\"dataframe\">\n",
       "  <thead>\n",
       "    <tr style=\"text-align: right;\">\n",
       "      <th></th>\n",
       "      <th>Neighborhood</th>\n",
       "      <th>Population (2010)</th>\n",
       "      <th>Land Area (acres)</th>\n",
       "      <th>Landslide Prone (% land area)</th>\n",
       "      <th>Undermined (% land area)</th>\n",
       "      <th>Flood Plain (% land area)</th>\n",
       "      <th>Park Space (acres)</th>\n",
       "      <th>Park Space (% of land area)</th>\n",
       "      <th>Greenway (% of land area)</th>\n",
       "    </tr>\n",
       "    <tr>\n",
       "      <th>_id</th>\n",
       "      <th></th>\n",
       "      <th></th>\n",
       "      <th></th>\n",
       "      <th></th>\n",
       "      <th></th>\n",
       "      <th></th>\n",
       "      <th></th>\n",
       "      <th></th>\n",
       "      <th></th>\n",
       "    </tr>\n",
       "  </thead>\n",
       "  <tbody>\n",
       "    <tr>\n",
       "      <th>1</th>\n",
       "      <td>Allegheny Center</td>\n",
       "      <td>933</td>\n",
       "      <td>134.4</td>\n",
       "      <td>0.0%</td>\n",
       "      <td>0.0%</td>\n",
       "      <td>0.2%</td>\n",
       "      <td>55.3</td>\n",
       "      <td>41.1%</td>\n",
       "      <td>0.0%</td>\n",
       "    </tr>\n",
       "    <tr>\n",
       "      <th>2</th>\n",
       "      <td>Allegheny West</td>\n",
       "      <td>462</td>\n",
       "      <td>90.2</td>\n",
       "      <td>9.3%</td>\n",
       "      <td>0.0%</td>\n",
       "      <td>2.3%</td>\n",
       "      <td>7.2</td>\n",
       "      <td>8.0%</td>\n",
       "      <td>0.0%</td>\n",
       "    </tr>\n",
       "    <tr>\n",
       "      <th>3</th>\n",
       "      <td>Allentown</td>\n",
       "      <td>2,500</td>\n",
       "      <td>188.8</td>\n",
       "      <td>27.1%</td>\n",
       "      <td>90.4%</td>\n",
       "      <td>0.0%</td>\n",
       "      <td>39.4</td>\n",
       "      <td>20.9%</td>\n",
       "      <td>0.0%</td>\n",
       "    </tr>\n",
       "    <tr>\n",
       "      <th>4</th>\n",
       "      <td>Arlington</td>\n",
       "      <td>1,869</td>\n",
       "      <td>300.8</td>\n",
       "      <td>41.4%</td>\n",
       "      <td>57.3%</td>\n",
       "      <td>1.5%</td>\n",
       "      <td>6.7</td>\n",
       "      <td>2.2%</td>\n",
       "      <td>0.0%</td>\n",
       "    </tr>\n",
       "    <tr>\n",
       "      <th>5</th>\n",
       "      <td>Arlington Heights</td>\n",
       "      <td>244</td>\n",
       "      <td>84.5</td>\n",
       "      <td>39.9%</td>\n",
       "      <td>61.2%</td>\n",
       "      <td>0.0%</td>\n",
       "      <td>0.0</td>\n",
       "      <td>0.0%</td>\n",
       "      <td>0.0%</td>\n",
       "    </tr>\n",
       "  </tbody>\n",
       "</table>\n",
       "</div>"
      ],
      "text/plain": [
       "          Neighborhood Population (2010) Land Area (acres)  \\\n",
       "_id                                                          \n",
       "1     Allegheny Center               933             134.4   \n",
       "2       Allegheny West               462              90.2   \n",
       "3            Allentown             2,500             188.8   \n",
       "4            Arlington             1,869             300.8   \n",
       "5    Arlington Heights               244              84.5   \n",
       "\n",
       "    Landslide Prone (% land area) Undermined (% land area)  \\\n",
       "_id                                                          \n",
       "1                            0.0%                     0.0%   \n",
       "2                            9.3%                     0.0%   \n",
       "3                           27.1%                    90.4%   \n",
       "4                           41.4%                    57.3%   \n",
       "5                           39.9%                    61.2%   \n",
       "\n",
       "    Flood Plain (% land area)  Park Space (acres) Park Space (% of land area)  \\\n",
       "_id                                                                             \n",
       "1                        0.2%                55.3                       41.1%   \n",
       "2                        2.3%                 7.2                        8.0%   \n",
       "3                        0.0%                39.4                       20.9%   \n",
       "4                        1.5%                 6.7                        2.2%   \n",
       "5                        0.0%                 0.0                        0.0%   \n",
       "\n",
       "    Greenway (% of land area)  \n",
       "_id                            \n",
       "1                        0.0%  \n",
       "2                        0.0%  \n",
       "3                        0.0%  \n",
       "4                        0.0%  \n",
       "5                        0.0%  "
      ]
     },
     "execution_count": 3,
     "metadata": {},
     "output_type": "execute_result"
    }
   ],
   "source": [
    "#Filtered data\n",
    "filter1 = file[[\"Neighborhood\", \"Population (2010)\", \"Land Area (acres)\", \"Landslide Prone (% land area)\", \"Undermined (% land area)\", \"Flood Plain (% land area)\",\"Park Space (acres)\", \"Park Space (% of land area)\", \"Greenway (% of land area)\"]]\n",
    "filter1.head(5)"
   ]
  },
  {
   "cell_type": "markdown",
   "metadata": {},
   "source": [
    "### Initial Analysis\n",
    "If we are simply looking at which neighborhood has the most amount of parks as the \"best neighborhood\" and the most landslide prone neighborhood as the \"worst\"..."
   ]
  },
  {
   "cell_type": "code",
   "execution_count": 12,
   "metadata": {},
   "outputs": [
    {
     "data": {
      "text/html": [
       "<div>\n",
       "<style scoped>\n",
       "    .dataframe tbody tr th:only-of-type {\n",
       "        vertical-align: middle;\n",
       "    }\n",
       "\n",
       "    .dataframe tbody tr th {\n",
       "        vertical-align: top;\n",
       "    }\n",
       "\n",
       "    .dataframe thead th {\n",
       "        text-align: right;\n",
       "    }\n",
       "</style>\n",
       "<table border=\"1\" class=\"dataframe\">\n",
       "  <thead>\n",
       "    <tr style=\"text-align: right;\">\n",
       "      <th></th>\n",
       "      <th>Neighborhood</th>\n",
       "      <th>Population (2010)</th>\n",
       "      <th>Park Space (acres)</th>\n",
       "    </tr>\n",
       "    <tr>\n",
       "      <th>_id</th>\n",
       "      <th></th>\n",
       "      <th></th>\n",
       "      <th></th>\n",
       "    </tr>\n",
       "  </thead>\n",
       "  <tbody>\n",
       "    <tr>\n",
       "      <th>77</th>\n",
       "      <td>Squirrel Hill South</td>\n",
       "      <td>15,110</td>\n",
       "      <td>684.6</td>\n",
       "    </tr>\n",
       "  </tbody>\n",
       "</table>\n",
       "</div>"
      ],
      "text/plain": [
       "            Neighborhood Population (2010)  Park Space (acres)\n",
       "_id                                                           \n",
       "77   Squirrel Hill South            15,110               684.6"
      ]
     },
     "execution_count": 12,
     "metadata": {},
     "output_type": "execute_result"
    }
   ],
   "source": [
    "filter2 = file[['Neighborhood', 'Population (2010)', 'Park Space (acres)']]\n",
    "filter2[filter2['Park Space (acres)'] == filter2['Park Space (acres)'].max()]"
   ]
  },
  {
   "cell_type": "markdown",
   "metadata": {},
   "source": [
    "Squirrel Hill South has the most amount of park space. This is likely because Frick Park is located in this neighborhood. "
   ]
  },
  {
   "cell_type": "code",
   "execution_count": 13,
   "metadata": {},
   "outputs": [],
   "source": [
    "file['Landslide Prone (% land area)'] = file['Landslide Prone (% land area)'].str.rstrip('%').astype(float)\n",
    "file['Park Space (% of land area)'] = file['Park Space (% of land area)'].str.rstrip('%').astype(float)\n",
    "file['Undermined (% land area)'] = file['Undermined (% land area)'].str.rstrip('%').astype(float)\n",
    "file['Flood Plain (% land area)'] = file['Flood Plain (% land area)'].str.rstrip('%').astype(float)\n",
    "file['Greenway (% of land area)'] = file['Greenway (% of land area)'].str.rstrip('%').astype(float)"
   ]
  },
  {
   "cell_type": "code",
   "execution_count": 14,
   "metadata": {},
   "outputs": [
    {
     "data": {
      "text/html": [
       "<div>\n",
       "<style scoped>\n",
       "    .dataframe tbody tr th:only-of-type {\n",
       "        vertical-align: middle;\n",
       "    }\n",
       "\n",
       "    .dataframe tbody tr th {\n",
       "        vertical-align: top;\n",
       "    }\n",
       "\n",
       "    .dataframe thead th {\n",
       "        text-align: right;\n",
       "    }\n",
       "</style>\n",
       "<table border=\"1\" class=\"dataframe\">\n",
       "  <thead>\n",
       "    <tr style=\"text-align: right;\">\n",
       "      <th></th>\n",
       "      <th>Neighborhood</th>\n",
       "      <th>Population (2010)</th>\n",
       "      <th>Landslide Prone (% land area)</th>\n",
       "    </tr>\n",
       "    <tr>\n",
       "      <th>_id</th>\n",
       "      <th></th>\n",
       "      <th></th>\n",
       "      <th></th>\n",
       "    </tr>\n",
       "  </thead>\n",
       "  <tbody>\n",
       "    <tr>\n",
       "      <th>33</th>\n",
       "      <td>Fineview</td>\n",
       "      <td>1,285</td>\n",
       "      <td>92.0</td>\n",
       "    </tr>\n",
       "  </tbody>\n",
       "</table>\n",
       "</div>"
      ],
      "text/plain": [
       "    Neighborhood Population (2010)  Landslide Prone (% land area)\n",
       "_id                                                              \n",
       "33      Fineview             1,285                           92.0"
      ]
     },
     "execution_count": 14,
     "metadata": {},
     "output_type": "execute_result"
    }
   ],
   "source": [
    "\n",
    "filter2 = file[['Neighborhood', 'Population (2010)', 'Landslide Prone (% land area)']]\n",
    "filter2[filter2['Landslide Prone (% land area)'] == filter2['Landslide Prone (% land area)'].max()]"
   ]
  },
  {
   "cell_type": "markdown",
   "metadata": {},
   "source": [
    "And Fineview is the most Landslide Prone. This could causes a serious threat to the properties and people living in the area. "
   ]
  },
  {
   "cell_type": "markdown",
   "metadata": {},
   "source": [
    "However, there are other metrics that we need to look at. And also the amount of park space a neighborhood has does not mean much as different neighborhoods have different sizes. In order to have a more holistic view, we need to consider multiple metrics and consider the proportions of land that is developed into public greenspace or prone to danger."
   ]
  },
  {
   "cell_type": "markdown",
   "metadata": {},
   "source": [
    "### Further Analysis"
   ]
  },
  {
   "cell_type": "code",
   "execution_count": 15,
   "metadata": {},
   "outputs": [
    {
     "data": {
      "text/html": [
       "<div>\n",
       "<style scoped>\n",
       "    .dataframe tbody tr th:only-of-type {\n",
       "        vertical-align: middle;\n",
       "    }\n",
       "\n",
       "    .dataframe tbody tr th {\n",
       "        vertical-align: top;\n",
       "    }\n",
       "\n",
       "    .dataframe thead th {\n",
       "        text-align: right;\n",
       "    }\n",
       "</style>\n",
       "<table border=\"1\" class=\"dataframe\">\n",
       "  <thead>\n",
       "    <tr style=\"text-align: right;\">\n",
       "      <th></th>\n",
       "      <th>Neighborhood</th>\n",
       "      <th>Population (2010)</th>\n",
       "      <th>Park Space (% of land area)</th>\n",
       "    </tr>\n",
       "    <tr>\n",
       "      <th>_id</th>\n",
       "      <th></th>\n",
       "      <th></th>\n",
       "      <th></th>\n",
       "    </tr>\n",
       "  </thead>\n",
       "  <tbody>\n",
       "    <tr>\n",
       "      <th>66</th>\n",
       "      <td>Regent Square</td>\n",
       "      <td>928</td>\n",
       "      <td>51.6</td>\n",
       "    </tr>\n",
       "  </tbody>\n",
       "</table>\n",
       "</div>"
      ],
      "text/plain": [
       "      Neighborhood Population (2010)  Park Space (% of land area)\n",
       "_id                                                              \n",
       "66   Regent Square               928                         51.6"
      ]
     },
     "execution_count": 15,
     "metadata": {},
     "output_type": "execute_result"
    }
   ],
   "source": [
    "\n",
    "filter2 = file[['Neighborhood', 'Population (2010)', 'Park Space (% of land area)']]\n",
    "filter2[filter2['Park Space (% of land area)'] == filter2['Park Space (% of land area)'].max()]"
   ]
  },
  {
   "cell_type": "code",
   "execution_count": 16,
   "metadata": {},
   "outputs": [
    {
     "data": {
      "text/html": [
       "<div>\n",
       "<style scoped>\n",
       "    .dataframe tbody tr th:only-of-type {\n",
       "        vertical-align: middle;\n",
       "    }\n",
       "\n",
       "    .dataframe tbody tr th {\n",
       "        vertical-align: top;\n",
       "    }\n",
       "\n",
       "    .dataframe thead th {\n",
       "        text-align: right;\n",
       "    }\n",
       "</style>\n",
       "<table border=\"1\" class=\"dataframe\">\n",
       "  <thead>\n",
       "    <tr style=\"text-align: right;\">\n",
       "      <th></th>\n",
       "      <th>Neighborhood</th>\n",
       "      <th>Population (2010)</th>\n",
       "      <th>Undermined (% land area)</th>\n",
       "    </tr>\n",
       "    <tr>\n",
       "      <th>_id</th>\n",
       "      <th></th>\n",
       "      <th></th>\n",
       "      <th></th>\n",
       "    </tr>\n",
       "  </thead>\n",
       "  <tbody>\n",
       "    <tr>\n",
       "      <th>44</th>\n",
       "      <td>Knoxville</td>\n",
       "      <td>3,747</td>\n",
       "      <td>99.9</td>\n",
       "    </tr>\n",
       "  </tbody>\n",
       "</table>\n",
       "</div>"
      ],
      "text/plain": [
       "    Neighborhood Population (2010)  Undermined (% land area)\n",
       "_id                                                         \n",
       "44     Knoxville             3,747                      99.9"
      ]
     },
     "execution_count": 16,
     "metadata": {},
     "output_type": "execute_result"
    }
   ],
   "source": [
    "\n",
    "filter3 = file[['Neighborhood', 'Population (2010)', 'Undermined (% land area)']]\n",
    "filter3[filter3['Undermined (% land area)'] == filter3['Undermined (% land area)'].max()]"
   ]
  },
  {
   "cell_type": "code",
   "execution_count": 18,
   "metadata": {},
   "outputs": [
    {
     "data": {
      "text/html": [
       "<div>\n",
       "<style scoped>\n",
       "    .dataframe tbody tr th:only-of-type {\n",
       "        vertical-align: middle;\n",
       "    }\n",
       "\n",
       "    .dataframe tbody tr th {\n",
       "        vertical-align: top;\n",
       "    }\n",
       "\n",
       "    .dataframe thead th {\n",
       "        text-align: right;\n",
       "    }\n",
       "</style>\n",
       "<table border=\"1\" class=\"dataframe\">\n",
       "  <thead>\n",
       "    <tr style=\"text-align: right;\">\n",
       "      <th></th>\n",
       "      <th>Neighborhood</th>\n",
       "      <th>Population (2010)</th>\n",
       "      <th>Flood Plain (% land area)</th>\n",
       "    </tr>\n",
       "    <tr>\n",
       "      <th>_id</th>\n",
       "      <th></th>\n",
       "      <th></th>\n",
       "      <th></th>\n",
       "    </tr>\n",
       "  </thead>\n",
       "  <tbody>\n",
       "    <tr>\n",
       "      <th>57</th>\n",
       "      <td>North Shore</td>\n",
       "      <td>303</td>\n",
       "      <td>82.0</td>\n",
       "    </tr>\n",
       "  </tbody>\n",
       "</table>\n",
       "</div>"
      ],
      "text/plain": [
       "    Neighborhood Population (2010)  Flood Plain (% land area)\n",
       "_id                                                          \n",
       "57   North Shore               303                       82.0"
      ]
     },
     "execution_count": 18,
     "metadata": {},
     "output_type": "execute_result"
    }
   ],
   "source": [
    "\n",
    "filter4 = file[['Neighborhood', 'Population (2010)', 'Flood Plain (% land area)']]\n",
    "filter4[filter4['Flood Plain (% land area)'] == filter4['Flood Plain (% land area)'].max()]"
   ]
  },
  {
   "cell_type": "code",
   "execution_count": 19,
   "metadata": {},
   "outputs": [
    {
     "data": {
      "text/html": [
       "<div>\n",
       "<style scoped>\n",
       "    .dataframe tbody tr th:only-of-type {\n",
       "        vertical-align: middle;\n",
       "    }\n",
       "\n",
       "    .dataframe tbody tr th {\n",
       "        vertical-align: top;\n",
       "    }\n",
       "\n",
       "    .dataframe thead th {\n",
       "        text-align: right;\n",
       "    }\n",
       "</style>\n",
       "<table border=\"1\" class=\"dataframe\">\n",
       "  <thead>\n",
       "    <tr style=\"text-align: right;\">\n",
       "      <th></th>\n",
       "      <th>Neighborhood</th>\n",
       "      <th>Population (2010)</th>\n",
       "      <th>Greenway (% of land area)</th>\n",
       "    </tr>\n",
       "    <tr>\n",
       "      <th>_id</th>\n",
       "      <th></th>\n",
       "      <th></th>\n",
       "      <th></th>\n",
       "    </tr>\n",
       "  </thead>\n",
       "  <tbody>\n",
       "    <tr>\n",
       "      <th>25</th>\n",
       "      <td>Duquesne Heights</td>\n",
       "      <td>2,425</td>\n",
       "      <td>16.6</td>\n",
       "    </tr>\n",
       "  </tbody>\n",
       "</table>\n",
       "</div>"
      ],
      "text/plain": [
       "         Neighborhood Population (2010)  Greenway (% of land area)\n",
       "_id                                                               \n",
       "25   Duquesne Heights             2,425                       16.6"
      ]
     },
     "execution_count": 19,
     "metadata": {},
     "output_type": "execute_result"
    }
   ],
   "source": [
    "\n",
    "filter5 = file[['Neighborhood', 'Population (2010)', 'Greenway (% of land area)']]\n",
    "filter5[filter5['Greenway (% of land area)'] == filter5['Greenway (% of land area)'].max()]"
   ]
  },
  {
   "cell_type": "markdown",
   "metadata": {},
   "source": [
    "The basic conclusion is that **Regent Square** has the most amount of parkspace percentage, **Fineview** is the most landslide prone, **Knoxville** has the most amount of undermined land, **North Shore** has the most Flood Plain, and **Duquesne Heights** has the most amount of Greenway. \n",
    "\n",
    "Undermined land means land that the ground underneath it is weak and eroded. This makes it dangerous for structures built on top of it. This means that undermined land can be more dangerous than even landslide prone land. \n",
    "\n",
    "Greenway essencially means walking trails on unpaved lands (so basically like trails). While this serves a similar function to park space, greeenway is also a form of transportation infrastructure which is a very good thing for residents. "
   ]
  },
  {
   "cell_type": "markdown",
   "metadata": {},
   "source": [
    "In order to combine the data, I have decided to combine the different datasets and add all greenspace into one set and all geographic dangers to another"
   ]
  },
  {
   "cell_type": "code",
   "execution_count": 27,
   "metadata": {},
   "outputs": [
    {
     "data": {
      "text/html": [
       "<div>\n",
       "<style scoped>\n",
       "    .dataframe tbody tr th:only-of-type {\n",
       "        vertical-align: middle;\n",
       "    }\n",
       "\n",
       "    .dataframe tbody tr th {\n",
       "        vertical-align: top;\n",
       "    }\n",
       "\n",
       "    .dataframe thead th {\n",
       "        text-align: right;\n",
       "    }\n",
       "</style>\n",
       "<table border=\"1\" class=\"dataframe\">\n",
       "  <thead>\n",
       "    <tr style=\"text-align: right;\">\n",
       "      <th></th>\n",
       "      <th>Neighborhood</th>\n",
       "      <th>Park Space (% of land area)</th>\n",
       "      <th>Greenway (% of land area)</th>\n",
       "      <th>greenspace</th>\n",
       "    </tr>\n",
       "    <tr>\n",
       "      <th>_id</th>\n",
       "      <th></th>\n",
       "      <th></th>\n",
       "      <th></th>\n",
       "      <th></th>\n",
       "    </tr>\n",
       "  </thead>\n",
       "  <tbody>\n",
       "    <tr>\n",
       "      <th>66</th>\n",
       "      <td>Regent Square</td>\n",
       "      <td>51.6</td>\n",
       "      <td>0.0</td>\n",
       "      <td>51.6</td>\n",
       "    </tr>\n",
       "  </tbody>\n",
       "</table>\n",
       "</div>"
      ],
      "text/plain": [
       "      Neighborhood  Park Space (% of land area)  Greenway (% of land area)  \\\n",
       "_id                                                                          \n",
       "66   Regent Square                         51.6                        0.0   \n",
       "\n",
       "     greenspace  \n",
       "_id              \n",
       "66         51.6  "
      ]
     },
     "execution_count": 27,
     "metadata": {},
     "output_type": "execute_result"
    }
   ],
   "source": [
    "file['greenspace'] = file['Park Space (% of land area)'] + file['Greenway (% of land area)'] \n",
    "\n",
    "filter3 = file[[\"Neighborhood\", 'Park Space (% of land area)', 'Greenway (% of land area)', 'greenspace']]\n",
    "\n",
    "neighborhood_max_green_space = filter3[filter3['greenspace'] == filter3['greenspace'].max()]\n",
    "\n",
    "filter3[filter3['greenspace'] == filter3['greenspace'].max()]\n"
   ]
  },
  {
   "cell_type": "markdown",
   "metadata": {},
   "source": [
    "**Regent Square** has the most amount of greenspace total with 51.6% of its land being Park Space. While there zero greenway, it makes up for it by having more than half the neighborhood's land dedicated to parks."
   ]
  },
  {
   "cell_type": "code",
   "execution_count": 28,
   "metadata": {},
   "outputs": [
    {
     "data": {
      "text/html": [
       "<div>\n",
       "<style scoped>\n",
       "    .dataframe tbody tr th:only-of-type {\n",
       "        vertical-align: middle;\n",
       "    }\n",
       "\n",
       "    .dataframe tbody tr th {\n",
       "        vertical-align: top;\n",
       "    }\n",
       "\n",
       "    .dataframe thead th {\n",
       "        text-align: right;\n",
       "    }\n",
       "</style>\n",
       "<table border=\"1\" class=\"dataframe\">\n",
       "  <thead>\n",
       "    <tr style=\"text-align: right;\">\n",
       "      <th></th>\n",
       "      <th>Neighborhood</th>\n",
       "      <th>Landslide Prone (% land area)</th>\n",
       "      <th>Undermined (% land area)</th>\n",
       "      <th>Flood Plain (% land area)</th>\n",
       "      <th>dangers</th>\n",
       "    </tr>\n",
       "    <tr>\n",
       "      <th>_id</th>\n",
       "      <th></th>\n",
       "      <th></th>\n",
       "      <th></th>\n",
       "      <th></th>\n",
       "      <th></th>\n",
       "    </tr>\n",
       "  </thead>\n",
       "  <tbody>\n",
       "    <tr>\n",
       "      <th>85</th>\n",
       "      <td>Upper Hill</td>\n",
       "      <td>38.5</td>\n",
       "      <td>83.4</td>\n",
       "      <td>0.0</td>\n",
       "      <td>121.9</td>\n",
       "    </tr>\n",
       "  </tbody>\n",
       "</table>\n",
       "</div>"
      ],
      "text/plain": [
       "    Neighborhood  Landslide Prone (% land area)  Undermined (% land area)  \\\n",
       "_id                                                                         \n",
       "85    Upper Hill                           38.5                      83.4   \n",
       "\n",
       "     Flood Plain (% land area)  dangers  \n",
       "_id                                      \n",
       "85                         0.0    121.9  "
      ]
     },
     "execution_count": 28,
     "metadata": {},
     "output_type": "execute_result"
    }
   ],
   "source": [
    "file['dangers'] = file['Landslide Prone (% land area)'] + file['Undermined (% land area)'] + file['Flood Plain (% land area)']\n",
    "\n",
    "filter3 = file[[\"Neighborhood\", 'Landslide Prone (% land area)', 'Undermined (% land area)', 'Flood Plain (% land area)', 'dangers']]\n",
    "\n",
    "neighborhood_max_green_space = filter3[filter3['dangers'] == filter3['dangers'].max()]\n",
    "\n",
    "filter3[filter3['dangers'] == filter3['dangers'].max()]"
   ]
  },
  {
   "cell_type": "markdown",
   "metadata": {},
   "source": [
    "**Upper Hill** ended up being the neighborhood with the most amount of potential land dangers. 38.5% was landslide prone and 83.4% was undermined. This creates a hazardous environment for the residents and their property."
   ]
  },
  {
   "cell_type": "markdown",
   "metadata": {},
   "source": [
    "# Conclusion"
   ]
  },
  {
   "cell_type": "markdown",
   "metadata": {},
   "source": [
    "Geographic factors is only one of the many aspects to how 'nice' a neighborhood is. The dataset does not take into consideration the type of housing in each area or other non-geographic threats. However it does provide some insight into the type of land that makes up the neighborhood. Also the data fails to account for how well the park is maintained or what recreational facilties the park has, which are important for seeing how well the greenspace serves the residents. "
   ]
  }
 ],
 "metadata": {
  "kernelspec": {
   "display_name": "Python 3",
   "language": "python",
   "name": "python3"
  },
  "language_info": {
   "codemirror_mode": {
    "name": "ipython",
    "version": 3
   },
   "file_extension": ".py",
   "mimetype": "text/x-python",
   "name": "python",
   "nbconvert_exporter": "python",
   "pygments_lexer": "ipython3",
   "version": "3.11.9"
  }
 },
 "nbformat": 4,
 "nbformat_minor": 2
}
